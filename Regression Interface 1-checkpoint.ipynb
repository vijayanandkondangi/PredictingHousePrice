{
 "cells": [
  {
   "cell_type": "code",
   "execution_count": 60,
   "metadata": {},
   "outputs": [],
   "source": [
    "# import the basic/essential libraries\n",
    "\n",
    "import numpy as np\n",
    "import pandas as pd\n",
    "import matplotlib.pyplot as plt"
   ]
  },
  {
   "cell_type": "code",
   "execution_count": 84,
   "metadata": {},
   "outputs": [
    {
     "name": "stdout",
     "output_type": "stream",
     "text": [
      "C:\\Users\\vkondang\\Python\n"
     ]
    }
   ],
   "source": [
    "# check the present working directory\n",
    "\n",
    "import os\n",
    "print(os.getcwd())"
   ]
  },
  {
   "cell_type": "code",
   "execution_count": 85,
   "metadata": {},
   "outputs": [],
   "source": [
    "# change the present working directory to the one containing the data (csv) files\n",
    "\n",
    "import os\n",
    "os.chdir(\"C:\\\\Users\\\\vkondang\\\\Python\")"
   ]
  },
  {
   "cell_type": "code",
   "execution_count": 86,
   "metadata": {},
   "outputs": [],
   "source": [
    "# read data from csv file in to a pandas data frame\n",
    "\n",
    "BH = pd.read_csv(\"BostonHousing.csv\")"
   ]
  },
  {
   "cell_type": "code",
   "execution_count": 87,
   "metadata": {},
   "outputs": [
    {
     "data": {
      "text/html": [
       "<div>\n",
       "<style scoped>\n",
       "    .dataframe tbody tr th:only-of-type {\n",
       "        vertical-align: middle;\n",
       "    }\n",
       "\n",
       "    .dataframe tbody tr th {\n",
       "        vertical-align: top;\n",
       "    }\n",
       "\n",
       "    .dataframe thead th {\n",
       "        text-align: right;\n",
       "    }\n",
       "</style>\n",
       "<table border=\"1\" class=\"dataframe\">\n",
       "  <thead>\n",
       "    <tr style=\"text-align: right;\">\n",
       "      <th></th>\n",
       "      <th>CRIM</th>\n",
       "      <th>ZN</th>\n",
       "      <th>INDUS</th>\n",
       "      <th>CHAS</th>\n",
       "      <th>NOX</th>\n",
       "      <th>RM</th>\n",
       "      <th>AGE</th>\n",
       "      <th>DIS</th>\n",
       "      <th>RAD</th>\n",
       "      <th>TAX</th>\n",
       "      <th>PTRATIO</th>\n",
       "      <th>LSTAT</th>\n",
       "      <th>MEDV</th>\n",
       "      <th>CAT. MEDV</th>\n",
       "    </tr>\n",
       "  </thead>\n",
       "  <tbody>\n",
       "    <tr>\n",
       "      <th>0</th>\n",
       "      <td>0.00632</td>\n",
       "      <td>18.0</td>\n",
       "      <td>2.31</td>\n",
       "      <td>0</td>\n",
       "      <td>0.538</td>\n",
       "      <td>6.575</td>\n",
       "      <td>65.2</td>\n",
       "      <td>4.0900</td>\n",
       "      <td>1</td>\n",
       "      <td>296</td>\n",
       "      <td>15.3</td>\n",
       "      <td>4.98</td>\n",
       "      <td>24.0</td>\n",
       "      <td>0</td>\n",
       "    </tr>\n",
       "    <tr>\n",
       "      <th>1</th>\n",
       "      <td>0.02731</td>\n",
       "      <td>0.0</td>\n",
       "      <td>7.07</td>\n",
       "      <td>0</td>\n",
       "      <td>0.469</td>\n",
       "      <td>6.421</td>\n",
       "      <td>78.9</td>\n",
       "      <td>4.9671</td>\n",
       "      <td>2</td>\n",
       "      <td>242</td>\n",
       "      <td>17.8</td>\n",
       "      <td>9.14</td>\n",
       "      <td>21.6</td>\n",
       "      <td>0</td>\n",
       "    </tr>\n",
       "    <tr>\n",
       "      <th>2</th>\n",
       "      <td>0.02729</td>\n",
       "      <td>0.0</td>\n",
       "      <td>7.07</td>\n",
       "      <td>0</td>\n",
       "      <td>0.469</td>\n",
       "      <td>7.185</td>\n",
       "      <td>61.1</td>\n",
       "      <td>4.9671</td>\n",
       "      <td>2</td>\n",
       "      <td>242</td>\n",
       "      <td>17.8</td>\n",
       "      <td>4.03</td>\n",
       "      <td>34.7</td>\n",
       "      <td>1</td>\n",
       "    </tr>\n",
       "    <tr>\n",
       "      <th>3</th>\n",
       "      <td>0.03237</td>\n",
       "      <td>0.0</td>\n",
       "      <td>2.18</td>\n",
       "      <td>0</td>\n",
       "      <td>0.458</td>\n",
       "      <td>6.998</td>\n",
       "      <td>45.8</td>\n",
       "      <td>6.0622</td>\n",
       "      <td>3</td>\n",
       "      <td>222</td>\n",
       "      <td>18.7</td>\n",
       "      <td>2.94</td>\n",
       "      <td>33.4</td>\n",
       "      <td>1</td>\n",
       "    </tr>\n",
       "    <tr>\n",
       "      <th>4</th>\n",
       "      <td>0.06905</td>\n",
       "      <td>0.0</td>\n",
       "      <td>2.18</td>\n",
       "      <td>0</td>\n",
       "      <td>0.458</td>\n",
       "      <td>7.147</td>\n",
       "      <td>54.2</td>\n",
       "      <td>6.0622</td>\n",
       "      <td>3</td>\n",
       "      <td>222</td>\n",
       "      <td>18.7</td>\n",
       "      <td>5.33</td>\n",
       "      <td>36.2</td>\n",
       "      <td>1</td>\n",
       "    </tr>\n",
       "    <tr>\n",
       "      <th>5</th>\n",
       "      <td>0.02985</td>\n",
       "      <td>0.0</td>\n",
       "      <td>2.18</td>\n",
       "      <td>0</td>\n",
       "      <td>0.458</td>\n",
       "      <td>6.430</td>\n",
       "      <td>58.7</td>\n",
       "      <td>6.0622</td>\n",
       "      <td>3</td>\n",
       "      <td>222</td>\n",
       "      <td>18.7</td>\n",
       "      <td>5.21</td>\n",
       "      <td>28.7</td>\n",
       "      <td>0</td>\n",
       "    </tr>\n",
       "  </tbody>\n",
       "</table>\n",
       "</div>"
      ],
      "text/plain": [
       "      CRIM    ZN  INDUS  CHAS    NOX     RM   AGE     DIS  RAD  TAX  PTRATIO  \\\n",
       "0  0.00632  18.0   2.31     0  0.538  6.575  65.2  4.0900    1  296     15.3   \n",
       "1  0.02731   0.0   7.07     0  0.469  6.421  78.9  4.9671    2  242     17.8   \n",
       "2  0.02729   0.0   7.07     0  0.469  7.185  61.1  4.9671    2  242     17.8   \n",
       "3  0.03237   0.0   2.18     0  0.458  6.998  45.8  6.0622    3  222     18.7   \n",
       "4  0.06905   0.0   2.18     0  0.458  7.147  54.2  6.0622    3  222     18.7   \n",
       "5  0.02985   0.0   2.18     0  0.458  6.430  58.7  6.0622    3  222     18.7   \n",
       "\n",
       "   LSTAT  MEDV  CAT. MEDV  \n",
       "0   4.98  24.0          0  \n",
       "1   9.14  21.6          0  \n",
       "2   4.03  34.7          1  \n",
       "3   2.94  33.4          1  \n",
       "4   5.33  36.2          1  \n",
       "5   5.21  28.7          0  "
      ]
     },
     "execution_count": 87,
     "metadata": {},
     "output_type": "execute_result"
    }
   ],
   "source": [
    "# inspect the data frame for sanity\n",
    "\n",
    "BH.head(6)"
   ]
  },
  {
   "cell_type": "code",
   "execution_count": 88,
   "metadata": {},
   "outputs": [
    {
     "name": "stdout",
     "output_type": "stream",
     "text": [
      "<class 'pandas.core.frame.DataFrame'>\n",
      "RangeIndex: 506 entries, 0 to 505\n",
      "Data columns (total 14 columns):\n",
      "CRIM         506 non-null float64\n",
      "ZN           506 non-null float64\n",
      "INDUS        506 non-null float64\n",
      "CHAS         506 non-null int64\n",
      "NOX          506 non-null float64\n",
      "RM           506 non-null float64\n",
      "AGE          506 non-null float64\n",
      "DIS          506 non-null float64\n",
      "RAD          506 non-null int64\n",
      "TAX          506 non-null int64\n",
      "PTRATIO      506 non-null float64\n",
      "LSTAT        506 non-null float64\n",
      "MEDV         506 non-null float64\n",
      "CAT. MEDV    506 non-null int64\n",
      "dtypes: float64(10), int64(4)\n",
      "memory usage: 55.4 KB\n"
     ]
    }
   ],
   "source": [
    "BH.info()"
   ]
  },
  {
   "cell_type": "code",
   "execution_count": 89,
   "metadata": {},
   "outputs": [],
   "source": [
    "# drop rows with one or more columns containing NA values\n",
    "\n",
    "BH = BH.drop([\"CAT. MEDV\"], axis = 1)\n",
    "BH = BH.dropna()"
   ]
  },
  {
   "cell_type": "code",
   "execution_count": 90,
   "metadata": {},
   "outputs": [
    {
     "name": "stdout",
     "output_type": "stream",
     "text": [
      "<class 'pandas.core.frame.DataFrame'>\n",
      "Int64Index: 506 entries, 0 to 505\n",
      "Data columns (total 13 columns):\n",
      "CRIM       506 non-null float64\n",
      "ZN         506 non-null float64\n",
      "INDUS      506 non-null float64\n",
      "CHAS       506 non-null int64\n",
      "NOX        506 non-null float64\n",
      "RM         506 non-null float64\n",
      "AGE        506 non-null float64\n",
      "DIS        506 non-null float64\n",
      "RAD        506 non-null int64\n",
      "TAX        506 non-null int64\n",
      "PTRATIO    506 non-null float64\n",
      "LSTAT      506 non-null float64\n",
      "MEDV       506 non-null float64\n",
      "dtypes: float64(10), int64(3)\n",
      "memory usage: 55.3 KB\n"
     ]
    }
   ],
   "source": [
    "# check the count of rows in the data frame\n",
    "\n",
    "BH.info()"
   ]
  },
  {
   "cell_type": "code",
   "execution_count": 91,
   "metadata": {},
   "outputs": [],
   "source": [
    "# test train split 70/30\n",
    "\n",
    "from sklearn.model_selection import train_test_split\n",
    "X_train, X_test = train_test_split(BH, test_size=0.3, random_state = 123)"
   ]
  },
  {
   "cell_type": "code",
   "execution_count": 92,
   "metadata": {},
   "outputs": [],
   "source": [
    "# separating the outcome variable from predictors\n",
    "\n",
    "y_train = X_train[\"MEDV\"]\n",
    "y_test = X_test[\"MEDV\"]\n",
    "\n",
    "X_train = X_train.drop([\"MEDV\"], axis = 1)\n",
    "X_test = X_test.drop([\"MEDV\"], axis = 1)\n",
    "\n",
    "X_train['CHAS'] = X_train['CHAS'].astype(float)\n",
    "X_train['RAD'] = X_train['RAD'].astype(float)\n",
    "X_train['TAX'] = X_train['TAX'].astype(float)\n",
    "\n",
    "X_test['CHAS'] = X_test['CHAS'].astype(float)\n",
    "X_test['RAD'] = X_test['RAD'].astype(float)\n",
    "X_test['TAX'] = X_test['TAX'].astype(float)\n",
    "\n",
    "from sklearn.preprocessing import StandardScaler\n",
    "sc = StandardScaler()\n",
    "X_train = sc.fit_transform(X_train)\n",
    "X_test = sc.transform(X_test)"
   ]
  },
  {
   "cell_type": "code",
   "execution_count": 93,
   "metadata": {
    "scrolled": true
   },
   "outputs": [
    {
     "name": "stdout",
     "output_type": "stream",
     "text": [
      "22.761864406779655 21.999342105263153\n"
     ]
    }
   ],
   "source": [
    "# baseline value of the train dataset 22.762\n",
    "# baseline value of the test dataset 21.999\n",
    "\n",
    "print(y_train.mean(), y_test.mean())\n",
    "\n"
   ]
  },
  {
   "cell_type": "code",
   "execution_count": 94,
   "metadata": {},
   "outputs": [
    {
     "data": {
      "text/plain": [
       "array([[-0.35842932,  0.37320621, -0.57528914, ..., -1.07497958,\n",
       "         0.07439155, -0.83365402],\n",
       "       [-0.37674054,  0.41676539, -0.76854658, ..., -0.95456799,\n",
       "        -0.77056919, -1.01390057],\n",
       "       [-0.37507786, -0.49797742, -1.23412134, ..., -1.25559697,\n",
       "        -0.30114655, -0.43572509],\n",
       "       ...,\n",
       "       [-0.34436402, -0.49797742, -0.51379813, ..., -0.68966249,\n",
       "         0.54381419, -0.67836468],\n",
       "       [ 0.61710364, -0.49797742,  1.05568658, ...,  1.59213716,\n",
       "         0.82546777,  1.52618932],\n",
       "       [ 0.11316957, -0.49797742,  1.05568658, ...,  1.59213716,\n",
       "         0.82546777, -0.75878238]])"
      ]
     },
     "execution_count": 94,
     "metadata": {},
     "output_type": "execute_result"
    }
   ],
   "source": [
    "X_train"
   ]
  },
  {
   "cell_type": "code",
   "execution_count": 95,
   "metadata": {},
   "outputs": [
    {
     "name": "stdout",
     "output_type": "stream",
     "text": [
      "0.6353089008165288 822.9967364499556 2.3268975511368244\n"
     ]
    }
   ],
   "source": [
    "# Linear Regression Model\n",
    "\n",
    "from sklearn.linear_model import LinearRegression\n",
    "import math\n",
    "LinReg = LinearRegression().fit(X_train, y_train)\n",
    "y_pred = LinReg.predict(X_test)\n",
    "\n",
    "print(LinReg.score(X_test, y_test), sum(y_pred - y_test)**2, math.sqrt(sum(y_pred - y_test)**2/y_test.count()))"
   ]
  },
  {
   "cell_type": "code",
   "execution_count": null,
   "metadata": {},
   "outputs": [],
   "source": [
    "# R2 of 0.6353 was obtained with a simple linear regression model"
   ]
  },
  {
   "cell_type": "code",
   "execution_count": 96,
   "metadata": {},
   "outputs": [
    {
     "name": "stdout",
     "output_type": "stream",
     "text": [
      "Fitting 5 folds for each of 8 candidates, totalling 40 fits\n",
      "[CV] alpha=0.0001 ....................................................\n",
      "[CV] ........... alpha=0.0001, score=0.8042144407604729, total=   0.0s\n",
      "[CV] alpha=0.0001 ....................................................\n",
      "[CV] ........... alpha=0.0001, score=0.6796320604153903, total=   0.0s\n",
      "[CV] alpha=0.0001 ....................................................\n",
      "[CV] ............ alpha=0.0001, score=0.782731345620619, total=   0.0s\n",
      "[CV] alpha=0.0001 ....................................................\n",
      "[CV] ........... alpha=0.0001, score=0.6728969883214899, total=   0.0s\n",
      "[CV] alpha=0.0001 ....................................................\n",
      "[CV] ........... alpha=0.0001, score=0.7222993892017124, total=   0.0s\n",
      "[CV] alpha=0.001 .....................................................\n",
      "[CV] ............. alpha=0.001, score=0.804214900727496, total=   0.0s\n",
      "[CV] alpha=0.001 .....................................................\n",
      "[CV] ............ alpha=0.001, score=0.6796319552023886, total=   0.0s\n",
      "[CV] alpha=0.001 .....................................................\n",
      "[CV] ............ alpha=0.001, score=0.7827324260638507, total=   0.0s\n",
      "[CV] alpha=0.001 .....................................................\n",
      "[CV] ............ alpha=0.001, score=0.6728964859727142, total=   0.0s\n",
      "[CV] alpha=0.001 .....................................................\n",
      "[CV] ............ alpha=0.001, score=0.7223000979645985, total=   0.0s\n",
      "[CV] alpha=0.01 ......................................................\n",
      "[CV] ............. alpha=0.01, score=0.8042194954029918, total=   0.0s\n",
      "[CV] alpha=0.01 ......................................................\n",
      "[CV] ............. alpha=0.01, score=0.6796309025403948, total=   0.0s\n",
      "[CV] alpha=0.01 ......................................................\n",
      "[CV] .............. alpha=0.01, score=0.782743223158897, total=   0.0s\n",
      "[CV] alpha=0.01 ......................................................\n",
      "[CV] .............. alpha=0.01, score=0.672891461533802, total=   0.0s\n",
      "[CV] alpha=0.01 ......................................................\n",
      "[CV] .............. alpha=0.01, score=0.722307180941322, total=   0.0s\n",
      "[CV] alpha=0.1 .......................................................\n",
      "[CV] .............. alpha=0.1, score=0.8042649461521416, total=   0.0s\n",
      "[CV] alpha=0.1 .......................................................\n",
      "[CV] .............. alpha=0.1, score=0.6796203232107054, total=   0.0s\n",
      "[CV] alpha=0.1 .......................................................\n",
      "[CV] .............. alpha=0.1, score=0.7828504652146056, total=   0.0s\n",
      "[CV] alpha=0.1 .......................................................\n",
      "[CV] .............. alpha=0.1, score=0.6728411231518663, total=   0.0s\n",
      "[CV] alpha=0.1 .......................................................\n",
      "[CV] .............. alpha=0.1, score=0.7223775496065545, total=   0.0s\n",
      "[CV] alpha=1 .........................................................\n",
      "[CV] ................ alpha=1, score=0.8046731017934925, total=   0.0s\n",
      "[CV] alpha=1 .........................................................\n",
      "[CV] ................ alpha=1, score=0.6795097079683083, total=   0.0s\n",
      "[CV] alpha=1 .........................................................\n",
      "[CV] ................ alpha=1, score=0.7838545163569987, total=   0.0s\n",
      "[CV] alpha=1 .........................................................\n",
      "[CV] ................ alpha=1, score=0.6723293801466392, total=   0.0s\n",
      "[CV] alpha=1 .........................................................\n",
      "[CV] ................ alpha=1, score=0.7230389019941424, total=   0.0s\n",
      "[CV] alpha=10 ........................................................\n",
      "[CV] ............... alpha=10, score=0.8060410992016389, total=   0.0s\n",
      "[CV] alpha=10 ........................................................\n",
      "[CV] ............... alpha=10, score=0.6781499405181268, total=   0.0s\n",
      "[CV] alpha=10 ........................................................\n",
      "[CV] ............... alpha=10, score=0.7897229870134963, total=   0.0s\n",
      "[CV] alpha=10 ........................................................\n",
      "[CV] ............... alpha=10, score=0.6669327135690148, total=   0.0s\n",
      "[CV] alpha=10 ........................................................\n",
      "[CV] ............... alpha=10, score=0.7273703191482102, total=   0.0s\n",
      "[CV] alpha=100 .......................................................\n",
      "[CV] .............. alpha=100, score=0.7810899127484661, total=   0.0s\n",
      "[CV] alpha=100 .......................................................\n",
      "[CV] .............. alpha=100, score=0.6561832613823707, total=   0.0s\n",
      "[CV] alpha=100 .......................................................\n",
      "[CV] .............. alpha=100, score=0.7763699426820775, total=   0.0s\n",
      "[CV] alpha=100 .......................................................\n",
      "[CV] ............... alpha=100, score=0.619795386510861, total=   0.0s\n",
      "[CV] alpha=100 .......................................................\n",
      "[CV] .............. alpha=100, score=0.7249102354675854, total=   0.0s\n",
      "[CV] alpha=1000 ......................................................\n",
      "[CV] ............. alpha=1000, score=0.5207124625104318, total=   0.0s\n",
      "[CV] alpha=1000 ......................................................\n",
      "[CV] ............. alpha=1000, score=0.4448309281059678, total=   0.0s\n",
      "[CV] alpha=1000 ......................................................\n",
      "[CV] ............. alpha=1000, score=0.5236420918758073, total=   0.0s\n",
      "[CV] alpha=1000 ......................................................\n",
      "[CV] ............ alpha=1000, score=0.38813152985065635, total=   0.0s\n",
      "[CV] alpha=1000 ......................................................\n",
      "[CV] .............. alpha=1000, score=0.511945168880029, total=   0.0s\n",
      "{'alpha': 10} 0.7336611324910632 0.6324138185348602\n"
     ]
    },
    {
     "name": "stderr",
     "output_type": "stream",
     "text": [
      "[Parallel(n_jobs=1)]: Using backend SequentialBackend with 1 concurrent workers.\n",
      "[Parallel(n_jobs=1)]: Done   1 out of   1 | elapsed:    0.0s remaining:    0.0s\n",
      "[Parallel(n_jobs=1)]: Done   2 out of   2 | elapsed:    0.0s remaining:    0.0s\n",
      "[Parallel(n_jobs=1)]: Done  40 out of  40 | elapsed:    0.0s finished\n"
     ]
    }
   ],
   "source": [
    "# Ridge (L2) Regression with GridSearchCV\n",
    "\n",
    "from sklearn.linear_model import Ridge\n",
    "from sklearn.model_selection import GridSearchCV\n",
    "alphas = [0.0001, 0.001, 0.01, 0.1, 1, 10, 100, 1000]\n",
    "param_grid = {'alpha': alphas}\n",
    "grid_searchRidge = GridSearchCV(Ridge(), param_grid, verbose=3, cv=5)\n",
    "grid_searchRidge.fit(X_train, y_train)\n",
    "print(grid_searchRidge.best_params_, grid_searchRidge.best_score_, grid_searchRidge.score(X_test, y_test))"
   ]
  },
  {
   "cell_type": "code",
   "execution_count": 97,
   "metadata": {},
   "outputs": [],
   "source": [
    "# With Ridge (L2 Regularization) an R2 of 0.6324 was obtained. This is inferior to the simple linear regression model."
   ]
  },
  {
   "cell_type": "code",
   "execution_count": 98,
   "metadata": {},
   "outputs": [
    {
     "name": "stdout",
     "output_type": "stream",
     "text": [
      "Fitting 5 folds for each of 8 candidates, totalling 40 fits\n",
      "[CV] alpha=0.0001 ....................................................\n",
      "[CV] ........... alpha=0.0001, score=0.8042182255106747, total=   0.0s\n",
      "[CV] alpha=0.0001 ....................................................\n",
      "[CV] ........... alpha=0.0001, score=0.6796343796880228, total=   0.0s\n",
      "[CV] alpha=0.0001 ....................................................\n",
      "[CV] ........... alpha=0.0001, score=0.7827484354672515, total=   0.0s\n",
      "[CV] alpha=0.0001 ....................................................\n",
      "[CV] ........... alpha=0.0001, score=0.6728886092965365, total=   0.0s\n",
      "[CV] alpha=0.0001 ....................................................\n",
      "[CV] ........... alpha=0.0001, score=0.7223011518694167, total=   0.0s\n",
      "[CV] alpha=0.001 .....................................................\n",
      "[CV] ............ alpha=0.001, score=0.8042528033963545, total=   0.0s\n",
      "[CV] alpha=0.001 .....................................................\n",
      "[CV] ............ alpha=0.001, score=0.6796574138466763, total=   0.0s\n",
      "[CV] alpha=0.001 .....................................................\n",
      "[CV] ............ alpha=0.001, score=0.7829028696687435, total=   0.0s\n",
      "[CV] alpha=0.001 .....................................................\n",
      "[CV] ............ alpha=0.001, score=0.6728173061747362, total=   0.0s\n",
      "[CV] alpha=0.001 .....................................................\n",
      "[CV] ............ alpha=0.001, score=0.7223128721729288, total=   0.0s\n",
      "[CV] alpha=0.01 ......................................................\n",
      "[CV] ............. alpha=0.01, score=0.8045124709644856, total=   0.0s\n",
      "[CV] alpha=0.01 ......................................................\n",
      "[CV] ............. alpha=0.01, score=0.6798446501969013, total=   0.0s\n",
      "[CV] alpha=0.01 ......................................................\n",
      "[CV] .............. alpha=0.01, score=0.784372712349848, total=   0.0s\n",
      "[CV] alpha=0.01 ......................................................\n",
      "[CV] .............. alpha=0.01, score=0.671990007363762, total=   0.0s\n",
      "[CV] alpha=0.01 ......................................................\n",
      "[CV] ............. alpha=0.01, score=0.7222739650262849, total=   0.0s\n",
      "[CV] alpha=0.1 .......................................................\n",
      "[CV] .............. alpha=0.1, score=0.7989209310451235, total=   0.0s\n",
      "[CV] alpha=0.1 .......................................................\n",
      "[CV] .............. alpha=0.1, score=0.6786012176586118, total=   0.0s\n",
      "[CV] alpha=0.1 .......................................................\n",
      "[CV] .............. alpha=0.1, score=0.7907314559612203, total=   0.0s\n",
      "[CV] alpha=0.1 .......................................................\n",
      "[CV] ............... alpha=0.1, score=0.656442992557924, total=   0.0s\n",
      "[CV] alpha=0.1 .......................................................\n",
      "[CV] .............. alpha=0.1, score=0.7027656373249243, total=   0.0s\n",
      "[CV] alpha=1 .........................................................\n",
      "[CV] .................. alpha=1, score=0.72630516035384, total=   0.0s\n",
      "[CV] alpha=1 .........................................................\n",
      "[CV] ................ alpha=1, score=0.6451588340908078, total=   0.0s\n",
      "[CV] alpha=1 .........................................................\n",
      "[CV] ................. alpha=1, score=0.755708534022899, total=   0.0s\n",
      "[CV] alpha=1 .........................................................\n",
      "[CV] .................. alpha=1, score=0.63220763225368, total=   0.0s\n",
      "[CV] alpha=1 .........................................................\n",
      "[CV] ................ alpha=1, score=0.6851517513956612, total=   0.0s\n",
      "[CV] alpha=10 ........................................................\n",
      "[CV] ............. alpha=10, score=-0.03279268742679098, total=   0.0s\n",
      "[CV] alpha=10 ........................................................\n",
      "[CV] ............ alpha=10, score=-0.033308129896678196, total=   0.0s\n",
      "[CV] alpha=10 ........................................................\n",
      "[CV] .......... alpha=10, score=-0.00018475783499227738, total=   0.0s\n",
      "[CV] alpha=10 ........................................................\n",
      "[CV] ........... alpha=10, score=-0.0022481286112923105, total=   0.0s\n",
      "[CV] alpha=10 ........................................................\n",
      "[CV] .......... alpha=10, score=-0.00034312654071966264, total=   0.0s\n",
      "[CV] alpha=100 .......................................................\n",
      "[CV] ............ alpha=100, score=-0.03279268742679098, total=   0.0s\n",
      "[CV] alpha=100 .......................................................\n",
      "[CV] ........... alpha=100, score=-0.033308129896678196, total=   0.0s\n",
      "[CV] alpha=100 .......................................................\n",
      "[CV] ......... alpha=100, score=-0.00018475783499227738, total=   0.0s\n",
      "[CV] alpha=100 .......................................................\n",
      "[CV] .......... alpha=100, score=-0.0022481286112923105, total=   0.0s\n",
      "[CV] alpha=100 .......................................................\n",
      "[CV] ......... alpha=100, score=-0.00034312654071966264, total=   0.0s\n",
      "[CV] alpha=1000 ......................................................\n",
      "[CV] ........... alpha=1000, score=-0.03279268742679098, total=   0.0s\n",
      "[CV] alpha=1000 ......................................................\n",
      "[CV] .......... alpha=1000, score=-0.033308129896678196, total=   0.0s\n",
      "[CV] alpha=1000 ......................................................\n",
      "[CV] ........ alpha=1000, score=-0.00018475783499227738, total=   0.0s\n",
      "[CV] alpha=1000 ......................................................\n",
      "[CV] ......... alpha=1000, score=-0.0022481286112923105, total=   0.0s\n",
      "[CV] alpha=1000 ......................................................\n",
      "[CV] ........ alpha=1000, score=-0.00034312654071966264, total=   0.0s\n",
      "{'alpha': 0.01} 0.7326279272710868 0.6344275202522809\n"
     ]
    },
    {
     "name": "stderr",
     "output_type": "stream",
     "text": [
      "[Parallel(n_jobs=1)]: Using backend SequentialBackend with 1 concurrent workers.\n",
      "[Parallel(n_jobs=1)]: Done   1 out of   1 | elapsed:    0.0s remaining:    0.0s\n",
      "[Parallel(n_jobs=1)]: Done   2 out of   2 | elapsed:    0.0s remaining:    0.0s\n",
      "[Parallel(n_jobs=1)]: Done  40 out of  40 | elapsed:    0.0s finished\n"
     ]
    }
   ],
   "source": [
    "# Lasso (L1) Regression with GridSearchCV\n",
    "\n",
    "from sklearn.linear_model import Lasso\n",
    "from sklearn.model_selection import GridSearchCV\n",
    "alphas = [0.0001, 0.001, 0.01, 0.1, 1, 10, 100, 1000]\n",
    "param_grid = {'alpha': alphas}\n",
    "grid_searchLasso = GridSearchCV(Lasso(), param_grid, verbose=3, cv=5)\n",
    "grid_searchLasso.fit(X_train, y_train)\n",
    "print(grid_searchLasso.best_params_, grid_searchLasso.best_score_, grid_searchLasso.score(X_test, y_test))"
   ]
  },
  {
   "cell_type": "code",
   "execution_count": null,
   "metadata": {},
   "outputs": [],
   "source": [
    "# With Lasso (R1) Regularization, an R2 of 0.6344 was obtained. This is also inferior when compared to the simple linear\n",
    "# regression model"
   ]
  },
  {
   "cell_type": "code",
   "execution_count": 99,
   "metadata": {},
   "outputs": [
    {
     "name": "stdout",
     "output_type": "stream",
     "text": [
      "Fitting 5 folds for each of 8 candidates, totalling 40 fits\n",
      "[CV] C=0.0001 ........................................................\n",
      "[CV] ............... C=0.0001, score=-7.343058419634129, total=   0.0s\n",
      "[CV] C=0.0001 ........................................................\n",
      "[CV] ............... C=0.0001, score=-4.891426905640251, total=   0.0s\n",
      "[CV] C=0.0001 ........................................................\n",
      "[CV] ................ C=0.0001, score=-5.42954188770518, total=   0.0s\n",
      "[CV] C=0.0001 ........................................................\n",
      "[CV] ............... C=0.0001, score=-6.124752769737166, total=   0.0s\n",
      "[CV] C=0.0001 ........................................................\n",
      "[CV] ............... C=0.0001, score=-7.092955264131401, total=   0.0s\n",
      "[CV] C=0.001 .........................................................\n",
      "[CV] ................ C=0.001, score=-7.202925131079581, total=   0.0s\n",
      "[CV] C=0.001 .........................................................\n",
      "[CV] ................ C=0.001, score=-4.777507167150176, total=   0.0s\n",
      "[CV] C=0.001 .........................................................\n",
      "[CV] ................ C=0.001, score=-5.310498606369677, total=   0.0s\n",
      "[CV] C=0.001 .........................................................\n",
      "[CV] ................ C=0.001, score=-5.997131786830036, total=   0.0s\n",
      "[CV] C=0.001 .........................................................\n",
      "[CV] ................ C=0.001, score=-6.936398724386471, total=   0.0s\n",
      "[CV] C=0.01 ..........................................................\n",
      "[CV] ................. C=0.01, score=-5.889069249629484, total=   0.0s\n",
      "[CV] C=0.01 ..........................................................\n",
      "[CV] ................ C=0.01, score=-3.7083728764710164, total=   0.0s\n",
      "[CV] C=0.01 ..........................................................\n",
      "[CV] ................. C=0.01, score=-4.194631507474581, total=   0.0s\n",
      "[CV] C=0.01 ..........................................................\n",
      "[CV] ................. C=0.01, score=-4.800156060973713, total=   0.0s\n",
      "[CV] C=0.01 ..........................................................\n",
      "[CV] ................. C=0.01, score=-5.466034385973305, total=   0.0s\n",
      "[CV] C=0.1 ...........................................................\n",
      "[CV] ................. C=0.1, score=0.43946328487205144, total=   0.0s\n",
      "[CV] C=0.1 ...........................................................\n",
      "[CV] .................. C=0.1, score=0.4851555769074649, total=   0.0s\n",
      "[CV] C=0.1 ...........................................................\n",
      "[CV] .................. C=0.1, score=0.5932242883815517, total=   0.0s\n",
      "[CV] C=0.1 ...........................................................\n",
      "[CV] .................. C=0.1, score=0.3806645971265512, total=   0.0s\n",
      "[CV] C=0.1 ...........................................................\n",
      "[CV] .................. C=0.1, score=0.4328523481444017, total=   0.0s\n",
      "[CV] C=1 .............................................................\n",
      "[CV] .................... C=1, score=0.7881240576660943, total=   0.0s\n",
      "[CV] C=1 .............................................................\n",
      "[CV] .................... C=1, score=0.6508944790192435, total=   0.0s\n",
      "[CV] C=1 .............................................................\n",
      "[CV] .................... C=1, score=0.7893397866206898, total=   0.0s\n",
      "[CV] C=1 .............................................................\n",
      "[CV] .................... C=1, score=0.5979436175592835, total=   0.0s\n",
      "[CV] C=1 .............................................................\n",
      "[CV] .................... C=1, score=0.7392649442588224, total=   0.0s\n",
      "[CV] C=10 ............................................................\n",
      "[CV] ................... C=10, score=0.7991182807156645, total=   0.0s\n",
      "[CV] C=10 ............................................................\n",
      "[CV] ................... C=10, score=0.6277504302294743, total=   0.0s\n",
      "[CV] C=10 ............................................................\n",
      "[CV] ................... C=10, score=0.7934911799157309, total=   0.0s\n",
      "[CV] C=10 ............................................................\n",
      "[CV] ................... C=10, score=0.6227431113181543, total=   0.0s\n",
      "[CV] C=10 ............................................................\n",
      "[CV] ................... C=10, score=0.7428113335493981, total=   0.0s\n",
      "[CV] C=100 ...........................................................\n",
      "[CV] .................. C=100, score=0.8100137565006637, total=   0.0s\n",
      "[CV] C=100 ...........................................................\n",
      "[CV] .................. C=100, score=0.6363372268914084, total=   0.0s\n",
      "[CV] C=100 ...........................................................\n",
      "[CV] .................. C=100, score=0.7884019590029699, total=   0.0s\n",
      "[CV] C=100 ...........................................................\n",
      "[CV] .................. C=100, score=0.6310401090934918, total=   0.0s\n",
      "[CV] C=100 ...........................................................\n"
     ]
    },
    {
     "name": "stderr",
     "output_type": "stream",
     "text": [
      "[Parallel(n_jobs=1)]: Using backend SequentialBackend with 1 concurrent workers.\n",
      "[Parallel(n_jobs=1)]: Done   1 out of   1 | elapsed:    0.0s remaining:    0.0s\n",
      "[Parallel(n_jobs=1)]: Done   2 out of   2 | elapsed:    0.0s remaining:    0.0s\n",
      "C:\\Users\\vkondang\\Anaconda3\\lib\\site-packages\\sklearn\\svm\\base.py:922: ConvergenceWarning: Liblinear failed to converge, increase the number of iterations.\n",
      "  \"the number of iterations.\", ConvergenceWarning)\n",
      "C:\\Users\\vkondang\\Anaconda3\\lib\\site-packages\\sklearn\\svm\\base.py:922: ConvergenceWarning: Liblinear failed to converge, increase the number of iterations.\n",
      "  \"the number of iterations.\", ConvergenceWarning)\n",
      "C:\\Users\\vkondang\\Anaconda3\\lib\\site-packages\\sklearn\\svm\\base.py:922: ConvergenceWarning: Liblinear failed to converge, increase the number of iterations.\n",
      "  \"the number of iterations.\", ConvergenceWarning)\n",
      "C:\\Users\\vkondang\\Anaconda3\\lib\\site-packages\\sklearn\\svm\\base.py:922: ConvergenceWarning: Liblinear failed to converge, increase the number of iterations.\n",
      "  \"the number of iterations.\", ConvergenceWarning)\n",
      "C:\\Users\\vkondang\\Anaconda3\\lib\\site-packages\\sklearn\\svm\\base.py:922: ConvergenceWarning: Liblinear failed to converge, increase the number of iterations.\n",
      "  \"the number of iterations.\", ConvergenceWarning)\n",
      "C:\\Users\\vkondang\\Anaconda3\\lib\\site-packages\\sklearn\\svm\\base.py:922: ConvergenceWarning: Liblinear failed to converge, increase the number of iterations.\n",
      "  \"the number of iterations.\", ConvergenceWarning)\n",
      "C:\\Users\\vkondang\\Anaconda3\\lib\\site-packages\\sklearn\\svm\\base.py:922: ConvergenceWarning: Liblinear failed to converge, increase the number of iterations.\n",
      "  \"the number of iterations.\", ConvergenceWarning)\n",
      "C:\\Users\\vkondang\\Anaconda3\\lib\\site-packages\\sklearn\\svm\\base.py:922: ConvergenceWarning: Liblinear failed to converge, increase the number of iterations.\n",
      "  \"the number of iterations.\", ConvergenceWarning)\n",
      "C:\\Users\\vkondang\\Anaconda3\\lib\\site-packages\\sklearn\\svm\\base.py:922: ConvergenceWarning: Liblinear failed to converge, increase the number of iterations.\n",
      "  \"the number of iterations.\", ConvergenceWarning)\n"
     ]
    },
    {
     "name": "stdout",
     "output_type": "stream",
     "text": [
      "[CV] .................. C=100, score=0.7388997825056396, total=   0.0s\n",
      "[CV] C=1000 ..........................................................\n",
      "[CV] ................. C=1000, score=0.5736237112862728, total=   0.0s\n",
      "[CV] C=1000 ..........................................................\n",
      "[CV] .................. C=1000, score=0.563240921048942, total=   0.0s\n",
      "[CV] C=1000 ..........................................................\n",
      "[CV] ................. C=1000, score=0.5059848517978052, total=   0.0s\n",
      "[CV] C=1000 ..........................................................\n",
      "[CV] ................. C=1000, score=0.5636904790043578, total=   0.0s\n",
      "[CV] C=1000 ..........................................................\n",
      "[CV] ................. C=1000, score=0.7070173001332414, total=   0.0s\n",
      "{'C': 100} 0.7208878289013578 0.5859449117428996\n"
     ]
    },
    {
     "name": "stderr",
     "output_type": "stream",
     "text": [
      "C:\\Users\\vkondang\\Anaconda3\\lib\\site-packages\\sklearn\\svm\\base.py:922: ConvergenceWarning: Liblinear failed to converge, increase the number of iterations.\n",
      "  \"the number of iterations.\", ConvergenceWarning)\n",
      "C:\\Users\\vkondang\\Anaconda3\\lib\\site-packages\\sklearn\\svm\\base.py:922: ConvergenceWarning: Liblinear failed to converge, increase the number of iterations.\n",
      "  \"the number of iterations.\", ConvergenceWarning)\n",
      "C:\\Users\\vkondang\\Anaconda3\\lib\\site-packages\\sklearn\\svm\\base.py:922: ConvergenceWarning: Liblinear failed to converge, increase the number of iterations.\n",
      "  \"the number of iterations.\", ConvergenceWarning)\n",
      "C:\\Users\\vkondang\\Anaconda3\\lib\\site-packages\\sklearn\\svm\\base.py:922: ConvergenceWarning: Liblinear failed to converge, increase the number of iterations.\n",
      "  \"the number of iterations.\", ConvergenceWarning)\n",
      "C:\\Users\\vkondang\\Anaconda3\\lib\\site-packages\\sklearn\\svm\\base.py:922: ConvergenceWarning: Liblinear failed to converge, increase the number of iterations.\n",
      "  \"the number of iterations.\", ConvergenceWarning)\n",
      "C:\\Users\\vkondang\\Anaconda3\\lib\\site-packages\\sklearn\\svm\\base.py:922: ConvergenceWarning: Liblinear failed to converge, increase the number of iterations.\n",
      "  \"the number of iterations.\", ConvergenceWarning)\n",
      "[Parallel(n_jobs=1)]: Done  40 out of  40 | elapsed:    0.2s finished\n",
      "C:\\Users\\vkondang\\Anaconda3\\lib\\site-packages\\sklearn\\model_selection\\_search.py:841: DeprecationWarning: The default of the `iid` parameter will change from True to False in version 0.22 and will be removed in 0.24. This will change numeric results when test-set sizes are unequal.\n",
      "  DeprecationWarning)\n",
      "C:\\Users\\vkondang\\Anaconda3\\lib\\site-packages\\sklearn\\svm\\base.py:922: ConvergenceWarning: Liblinear failed to converge, increase the number of iterations.\n",
      "  \"the number of iterations.\", ConvergenceWarning)\n"
     ]
    }
   ],
   "source": [
    "# SVM Regression with GridSearchCV\n",
    "\n",
    "from sklearn.svm import LinearSVR\n",
    "from sklearn.model_selection import GridSearchCV\n",
    "Cs = [0.0001, 0.001, 0.01, 0.1, 1, 10, 100, 1000]\n",
    "param_grid = {'C': alphas}\n",
    "grid_searchLinSVR = GridSearchCV(LinearSVR(), param_grid, verbose=3, cv=5)\n",
    "grid_searchLinSVR.fit(X_train, y_train)\n",
    "print(grid_searchLinSVR.best_params_, grid_searchLinSVR.best_score_, grid_searchLinSVR.score(X_test, y_test))"
   ]
  },
  {
   "cell_type": "code",
   "execution_count": null,
   "metadata": {},
   "outputs": [],
   "source": [
    "# With Linear SVR, an R2 of 0.5859 was obtained. This is also inferior when compared to the simple linear\n",
    "# regression model"
   ]
  },
  {
   "cell_type": "code",
   "execution_count": 100,
   "metadata": {},
   "outputs": [
    {
     "name": "stdout",
     "output_type": "stream",
     "text": [
      "Fitting 5 folds for each of 6 candidates, totalling 30 fits\n",
      "[CV] alpha=0.001 .....................................................\n"
     ]
    },
    {
     "name": "stderr",
     "output_type": "stream",
     "text": [
      "[Parallel(n_jobs=1)]: Using backend SequentialBackend with 1 concurrent workers.\n",
      "C:\\Users\\vkondang\\Anaconda3\\lib\\site-packages\\sklearn\\neural_network\\multilayer_perceptron.py:562: ConvergenceWarning: Stochastic Optimizer: Maximum iterations (1000) reached and the optimization hasn't converged yet.\n",
      "  % self.max_iter, ConvergenceWarning)\n",
      "[Parallel(n_jobs=1)]: Done   1 out of   1 | elapsed:    0.5s remaining:    0.0s\n"
     ]
    },
    {
     "name": "stdout",
     "output_type": "stream",
     "text": [
      "[CV] ............ alpha=0.001, score=0.7926508559309641, total=   0.5s\n",
      "[CV] alpha=0.001 .....................................................\n"
     ]
    },
    {
     "name": "stderr",
     "output_type": "stream",
     "text": [
      "C:\\Users\\vkondang\\Anaconda3\\lib\\site-packages\\sklearn\\neural_network\\multilayer_perceptron.py:562: ConvergenceWarning: Stochastic Optimizer: Maximum iterations (1000) reached and the optimization hasn't converged yet.\n",
      "  % self.max_iter, ConvergenceWarning)\n",
      "[Parallel(n_jobs=1)]: Done   2 out of   2 | elapsed:    1.1s remaining:    0.0s\n"
     ]
    },
    {
     "name": "stdout",
     "output_type": "stream",
     "text": [
      "[CV] ............ alpha=0.001, score=0.8043880368720266, total=   0.5s\n",
      "[CV] alpha=0.001 .....................................................\n",
      "[CV] ....... alpha=0.001, score=-1.8939385549199272e-05, total=   0.1s\n",
      "[CV] alpha=0.001 .....................................................\n"
     ]
    },
    {
     "name": "stderr",
     "output_type": "stream",
     "text": [
      "C:\\Users\\vkondang\\Anaconda3\\lib\\site-packages\\sklearn\\neural_network\\multilayer_perceptron.py:562: ConvergenceWarning: Stochastic Optimizer: Maximum iterations (1000) reached and the optimization hasn't converged yet.\n",
      "  % self.max_iter, ConvergenceWarning)\n"
     ]
    },
    {
     "name": "stdout",
     "output_type": "stream",
     "text": [
      "[CV] ............ alpha=0.001, score=0.7890736867089219, total=   0.5s\n",
      "[CV] alpha=0.001 .....................................................\n"
     ]
    },
    {
     "name": "stderr",
     "output_type": "stream",
     "text": [
      "C:\\Users\\vkondang\\Anaconda3\\lib\\site-packages\\sklearn\\neural_network\\multilayer_perceptron.py:562: ConvergenceWarning: Stochastic Optimizer: Maximum iterations (1000) reached and the optimization hasn't converged yet.\n",
      "  % self.max_iter, ConvergenceWarning)\n"
     ]
    },
    {
     "name": "stdout",
     "output_type": "stream",
     "text": [
      "[CV] ............ alpha=0.001, score=0.8105966099114699, total=   0.6s\n",
      "[CV] alpha=0.01 ......................................................\n"
     ]
    },
    {
     "name": "stderr",
     "output_type": "stream",
     "text": [
      "C:\\Users\\vkondang\\Anaconda3\\lib\\site-packages\\sklearn\\neural_network\\multilayer_perceptron.py:562: ConvergenceWarning: Stochastic Optimizer: Maximum iterations (1000) reached and the optimization hasn't converged yet.\n",
      "  % self.max_iter, ConvergenceWarning)\n"
     ]
    },
    {
     "name": "stdout",
     "output_type": "stream",
     "text": [
      "[CV] .............. alpha=0.01, score=0.792553208798376, total=   0.5s\n",
      "[CV] alpha=0.01 ......................................................\n"
     ]
    },
    {
     "name": "stderr",
     "output_type": "stream",
     "text": [
      "C:\\Users\\vkondang\\Anaconda3\\lib\\site-packages\\sklearn\\neural_network\\multilayer_perceptron.py:562: ConvergenceWarning: Stochastic Optimizer: Maximum iterations (1000) reached and the optimization hasn't converged yet.\n",
      "  % self.max_iter, ConvergenceWarning)\n"
     ]
    },
    {
     "name": "stdout",
     "output_type": "stream",
     "text": [
      "[CV] ............. alpha=0.01, score=0.8031881046211282, total=   0.6s\n",
      "[CV] alpha=0.01 ......................................................\n",
      "[CV] ........ alpha=0.01, score=-1.8939385422411803e-05, total=   0.1s\n",
      "[CV] alpha=0.01 ......................................................\n"
     ]
    },
    {
     "name": "stderr",
     "output_type": "stream",
     "text": [
      "C:\\Users\\vkondang\\Anaconda3\\lib\\site-packages\\sklearn\\neural_network\\multilayer_perceptron.py:562: ConvergenceWarning: Stochastic Optimizer: Maximum iterations (1000) reached and the optimization hasn't converged yet.\n",
      "  % self.max_iter, ConvergenceWarning)\n"
     ]
    },
    {
     "name": "stdout",
     "output_type": "stream",
     "text": [
      "[CV] ............. alpha=0.01, score=0.7881629986652874, total=   0.5s\n",
      "[CV] alpha=0.01 ......................................................\n"
     ]
    },
    {
     "name": "stderr",
     "output_type": "stream",
     "text": [
      "C:\\Users\\vkondang\\Anaconda3\\lib\\site-packages\\sklearn\\neural_network\\multilayer_perceptron.py:562: ConvergenceWarning: Stochastic Optimizer: Maximum iterations (1000) reached and the optimization hasn't converged yet.\n",
      "  % self.max_iter, ConvergenceWarning)\n"
     ]
    },
    {
     "name": "stdout",
     "output_type": "stream",
     "text": [
      "[CV] ............. alpha=0.01, score=0.8105158938505082, total=   0.6s\n",
      "[CV] alpha=0.1 .......................................................\n"
     ]
    },
    {
     "name": "stderr",
     "output_type": "stream",
     "text": [
      "C:\\Users\\vkondang\\Anaconda3\\lib\\site-packages\\sklearn\\neural_network\\multilayer_perceptron.py:562: ConvergenceWarning: Stochastic Optimizer: Maximum iterations (1000) reached and the optimization hasn't converged yet.\n",
      "  % self.max_iter, ConvergenceWarning)\n"
     ]
    },
    {
     "name": "stdout",
     "output_type": "stream",
     "text": [
      "[CV] ................. alpha=0.1, score=0.7944863820247, total=   0.6s\n",
      "[CV] alpha=0.1 .......................................................\n"
     ]
    },
    {
     "name": "stderr",
     "output_type": "stream",
     "text": [
      "C:\\Users\\vkondang\\Anaconda3\\lib\\site-packages\\sklearn\\neural_network\\multilayer_perceptron.py:562: ConvergenceWarning: Stochastic Optimizer: Maximum iterations (1000) reached and the optimization hasn't converged yet.\n",
      "  % self.max_iter, ConvergenceWarning)\n"
     ]
    },
    {
     "name": "stdout",
     "output_type": "stream",
     "text": [
      "[CV] .............. alpha=0.1, score=0.8027313618427558, total=   0.6s\n",
      "[CV] alpha=0.1 .......................................................\n",
      "[CV] ......... alpha=0.1, score=-1.8939384154315064e-05, total=   0.1s\n",
      "[CV] alpha=0.1 .......................................................\n"
     ]
    },
    {
     "name": "stderr",
     "output_type": "stream",
     "text": [
      "C:\\Users\\vkondang\\Anaconda3\\lib\\site-packages\\sklearn\\neural_network\\multilayer_perceptron.py:562: ConvergenceWarning: Stochastic Optimizer: Maximum iterations (1000) reached and the optimization hasn't converged yet.\n",
      "  % self.max_iter, ConvergenceWarning)\n"
     ]
    },
    {
     "name": "stdout",
     "output_type": "stream",
     "text": [
      "[CV] .............. alpha=0.1, score=0.7889150982081323, total=   0.9s\n",
      "[CV] alpha=0.1 .......................................................\n"
     ]
    },
    {
     "name": "stderr",
     "output_type": "stream",
     "text": [
      "C:\\Users\\vkondang\\Anaconda3\\lib\\site-packages\\sklearn\\neural_network\\multilayer_perceptron.py:562: ConvergenceWarning: Stochastic Optimizer: Maximum iterations (1000) reached and the optimization hasn't converged yet.\n",
      "  % self.max_iter, ConvergenceWarning)\n"
     ]
    },
    {
     "name": "stdout",
     "output_type": "stream",
     "text": [
      "[CV] .............. alpha=0.1, score=0.8103518285521429, total=   0.6s\n",
      "[CV] alpha=1 .........................................................\n"
     ]
    },
    {
     "name": "stderr",
     "output_type": "stream",
     "text": [
      "C:\\Users\\vkondang\\Anaconda3\\lib\\site-packages\\sklearn\\neural_network\\multilayer_perceptron.py:562: ConvergenceWarning: Stochastic Optimizer: Maximum iterations (1000) reached and the optimization hasn't converged yet.\n",
      "  % self.max_iter, ConvergenceWarning)\n"
     ]
    },
    {
     "name": "stdout",
     "output_type": "stream",
     "text": [
      "[CV] ................. alpha=1, score=0.792965275037149, total=   0.6s\n",
      "[CV] alpha=1 .........................................................\n"
     ]
    },
    {
     "name": "stderr",
     "output_type": "stream",
     "text": [
      "C:\\Users\\vkondang\\Anaconda3\\lib\\site-packages\\sklearn\\neural_network\\multilayer_perceptron.py:562: ConvergenceWarning: Stochastic Optimizer: Maximum iterations (1000) reached and the optimization hasn't converged yet.\n",
      "  % self.max_iter, ConvergenceWarning)\n"
     ]
    },
    {
     "name": "stdout",
     "output_type": "stream",
     "text": [
      "[CV] ................ alpha=1, score=0.8252274240145532, total=   0.6s\n",
      "[CV] alpha=1 .........................................................\n",
      "[CV] ........... alpha=1, score=-1.8939371480453104e-05, total=   0.1s\n",
      "[CV] alpha=1 .........................................................\n"
     ]
    },
    {
     "name": "stderr",
     "output_type": "stream",
     "text": [
      "C:\\Users\\vkondang\\Anaconda3\\lib\\site-packages\\sklearn\\neural_network\\multilayer_perceptron.py:562: ConvergenceWarning: Stochastic Optimizer: Maximum iterations (1000) reached and the optimization hasn't converged yet.\n",
      "  % self.max_iter, ConvergenceWarning)\n"
     ]
    },
    {
     "name": "stdout",
     "output_type": "stream",
     "text": [
      "[CV] ................. alpha=1, score=0.786852715948025, total=   0.5s\n",
      "[CV] alpha=1 .........................................................\n"
     ]
    },
    {
     "name": "stderr",
     "output_type": "stream",
     "text": [
      "C:\\Users\\vkondang\\Anaconda3\\lib\\site-packages\\sklearn\\neural_network\\multilayer_perceptron.py:562: ConvergenceWarning: Stochastic Optimizer: Maximum iterations (1000) reached and the optimization hasn't converged yet.\n",
      "  % self.max_iter, ConvergenceWarning)\n"
     ]
    },
    {
     "name": "stdout",
     "output_type": "stream",
     "text": [
      "[CV] ................ alpha=1, score=0.8533651152409284, total=   0.6s\n",
      "[CV] alpha=10 ........................................................\n"
     ]
    },
    {
     "name": "stderr",
     "output_type": "stream",
     "text": [
      "C:\\Users\\vkondang\\Anaconda3\\lib\\site-packages\\sklearn\\neural_network\\multilayer_perceptron.py:562: ConvergenceWarning: Stochastic Optimizer: Maximum iterations (1000) reached and the optimization hasn't converged yet.\n",
      "  % self.max_iter, ConvergenceWarning)\n"
     ]
    },
    {
     "name": "stdout",
     "output_type": "stream",
     "text": [
      "[CV] ................ alpha=10, score=0.790263885540833, total=   0.6s\n",
      "[CV] alpha=10 ........................................................\n"
     ]
    },
    {
     "name": "stderr",
     "output_type": "stream",
     "text": [
      "C:\\Users\\vkondang\\Anaconda3\\lib\\site-packages\\sklearn\\neural_network\\multilayer_perceptron.py:562: ConvergenceWarning: Stochastic Optimizer: Maximum iterations (1000) reached and the optimization hasn't converged yet.\n",
      "  % self.max_iter, ConvergenceWarning)\n"
     ]
    },
    {
     "name": "stdout",
     "output_type": "stream",
     "text": [
      "[CV] ............... alpha=10, score=0.7955646259220059, total=   0.5s\n",
      "[CV] alpha=10 ........................................................\n",
      "[CV] .......... alpha=10, score=-0.00012166949989578235, total=   0.4s\n",
      "[CV] alpha=10 ........................................................\n"
     ]
    },
    {
     "name": "stderr",
     "output_type": "stream",
     "text": [
      "C:\\Users\\vkondang\\Anaconda3\\lib\\site-packages\\sklearn\\neural_network\\multilayer_perceptron.py:562: ConvergenceWarning: Stochastic Optimizer: Maximum iterations (1000) reached and the optimization hasn't converged yet.\n",
      "  % self.max_iter, ConvergenceWarning)\n"
     ]
    },
    {
     "name": "stdout",
     "output_type": "stream",
     "text": [
      "[CV] ............... alpha=10, score=0.7584916095975011, total=   0.5s\n",
      "[CV] alpha=10 ........................................................\n"
     ]
    },
    {
     "name": "stderr",
     "output_type": "stream",
     "text": [
      "C:\\Users\\vkondang\\Anaconda3\\lib\\site-packages\\sklearn\\neural_network\\multilayer_perceptron.py:562: ConvergenceWarning: Stochastic Optimizer: Maximum iterations (1000) reached and the optimization hasn't converged yet.\n",
      "  % self.max_iter, ConvergenceWarning)\n"
     ]
    },
    {
     "name": "stdout",
     "output_type": "stream",
     "text": [
      "[CV] ............... alpha=10, score=0.8445757800006415, total=   0.6s\n",
      "[CV] alpha=100 .......................................................\n",
      "[CV] ........... alpha=100, score=-0.032932206223698524, total=   0.1s\n",
      "[CV] alpha=100 .......................................................\n",
      "[CV] ........... alpha=100, score=-0.029638805538744876, total=   0.1s\n",
      "[CV] alpha=100 .......................................................\n",
      "[CV] ......... alpha=100, score=-1.8938084153319323e-05, total=   0.1s\n",
      "[CV] alpha=100 .......................................................\n",
      "[CV] .......... alpha=100, score=-0.0030171035190704742, total=   0.1s\n",
      "[CV] alpha=100 .......................................................\n",
      "[CV] .......... alpha=100, score=-1.860161555367057e-05, total=   0.1s\n"
     ]
    },
    {
     "name": "stderr",
     "output_type": "stream",
     "text": [
      "[Parallel(n_jobs=1)]: Done  30 out of  30 | elapsed:   15.2s finished\n",
      "C:\\Users\\vkondang\\Anaconda3\\lib\\site-packages\\sklearn\\model_selection\\_search.py:841: DeprecationWarning: The default of the `iid` parameter will change from True to False in version 0.22 and will be removed in 0.24. This will change numeric results when test-set sizes are unequal.\n",
      "  DeprecationWarning)\n"
     ]
    },
    {
     "name": "stdout",
     "output_type": "stream",
     "text": [
      "{'alpha': 1} 0.6511085814589562 0.7766721371719463\n"
     ]
    },
    {
     "name": "stderr",
     "output_type": "stream",
     "text": [
      "C:\\Users\\vkondang\\Anaconda3\\lib\\site-packages\\sklearn\\neural_network\\multilayer_perceptron.py:562: ConvergenceWarning: Stochastic Optimizer: Maximum iterations (1000) reached and the optimization hasn't converged yet.\n",
      "  % self.max_iter, ConvergenceWarning)\n"
     ]
    }
   ],
   "source": [
    "# NN Regression with GridSearchCV\n",
    "\n",
    "from sklearn.neural_network import MLPRegressor\n",
    "from sklearn.model_selection import GridSearchCV\n",
    "alphas = [0.001, 0.01, 0.1, 1, 10, 100]\n",
    "param_grid = {'alpha': alphas}\n",
    "grid_searchLinMLPR = GridSearchCV(MLPRegressor(solver = 'sgd', hidden_layer_sizes=(5, 2), random_state=123, max_iter=1000), param_grid, verbose=3, cv=5)\n",
    "grid_searchLinMLPR.fit(X_train, y_train)\n",
    "print(grid_searchLinMLPR.best_params_, grid_searchLinMLPR.best_score_, grid_searchLinMLPR.score(X_test, y_test))"
   ]
  },
  {
   "cell_type": "code",
   "execution_count": null,
   "metadata": {},
   "outputs": [],
   "source": [
    "# With MLP Regressor, an R2 of 0.7767 was obtained. This is a clear improvement from the previous models!"
   ]
  }
 ],
 "metadata": {
  "kernelspec": {
   "display_name": "Python 3",
   "language": "python",
   "name": "python3"
  },
  "language_info": {
   "codemirror_mode": {
    "name": "ipython",
    "version": 3
   },
   "file_extension": ".py",
   "mimetype": "text/x-python",
   "name": "python",
   "nbconvert_exporter": "python",
   "pygments_lexer": "ipython3",
   "version": "3.7.4"
  }
 },
 "nbformat": 4,
 "nbformat_minor": 2
}
